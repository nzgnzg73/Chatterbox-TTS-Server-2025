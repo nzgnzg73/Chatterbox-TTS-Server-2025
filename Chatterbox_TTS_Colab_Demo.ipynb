{
  "nbformat": 4,
  "nbformat_minor": 0,
  "metadata": {
    "colab": {
      "provenance": [],
      "gpuType": "T4"
    },
    "kernelspec": {
      "name": "python3",
      "display_name": "Python 3"
    },
    "language_info": {
      "name": "python"
    },
    "accelerator": "GPU"
  },
  "cells": [
    {
      "cell_type": "markdown",
      "source": [
        "Want to talk or ask something?\n",
        "Just click the YouTube link below! You'll find my 📧 email there and can message me easily. 👇\n",
        "\n",
        "🎥 YouTube Channel: @nzg73\n",
        "🔗 https://youtube.com/@NZG73\n",
        "\n",
        "━━━━━━━━━━━━━━━━━━━━━━━━━━━━━━━━━━"
      ],
      "metadata": {
        "id": "gcq0RY0NUFWH"
      }
    },
    {
      "cell_type": "code",
      "execution_count": null,
      "metadata": {
        "id": "LbXcUg_xT_IO"
      },
      "outputs": [],
      "source": [
        "# @title 1. Setup and Installation (Robust Version)\n",
        "# Clone repository and install dependencies with error handling\n",
        "\n",
        "# Remove existing directory and clear cache\n",
        "!rm -rf Chatterbox-TTS-Server-2025\n",
        "!pip cache purge\n",
        "\n",
        "# Clone repository\n",
        "!git clone https://github.com/nzgnzg73/Chatterbox-TTS-Server-2025.git\n",
        "%cd Chatterbox-TTS-Server-2025\n",
        "\n",
        "print(\"✅ Repository cloned. Installing core dependencies...\")\n",
        "\n",
        "# Install PyTorch with compatible torchvision\n",
        "!pip install torch==2.5.1+cu121 torchaudio==2.5.1+cu121 torchvision==0.20.1+cu121 --index-url https://download.pytorch.org/whl/cu121 -q\n",
        "\n",
        "# Install your Colab-compatible chatterbox fork\n",
        "!pip install git+https://github.com/nzgnzg73/chatterbox-2025.git -q\n",
        "\n",
        "print(\"✅ Core TTS components installed. Installing server dependencies...\")\n",
        "\n",
        "# Install essential server requirements (skip problematic packages)\n",
        "!pip install fastapi uvicorn pyyaml soundfile librosa safetensors -q\n",
        "!pip install python-multipart requests jinja2 watchdog aiofiles unidecode inflect tqdm -q\n",
        "!pip install pydub audiotsm -q\n",
        "\n",
        "# Try to install parselmouth (may fail on some systems)\n",
        "!pip install parselmouth -q || echo \"Parselmouth installation failed - unvoiced segment removal will be disabled\"\n",
        "\n",
        "print(\"✅ Installation complete! Some optional packages may have been skipped.\")"
      ]
    },
    {
      "cell_type": "code",
      "source": [
        "# @title 2. Launch the Server! ⚡\n",
        "# Starts the TTS server with memory optimization\n",
        "\n",
        "import threading\n",
        "import time\n",
        "import uvicorn\n",
        "import gc\n",
        "from google.colab.output import serve_kernel_port_as_window\n",
        "\n",
        "port = 8004\n",
        "\n",
        "print(\"🛑 Stopping existing servers...\")\n",
        "!fuser -k 8004/tcp 2>/dev/null || echo \"Port clear\"\n",
        "!pkill -f \"uvicorn.*server\" 2>/dev/null || echo \"No running servers\"\n",
        "\n",
        "print(\"🧹 Clearing memory...\")\n",
        "gc.collect()\n",
        "\n",
        "%cd /content/Chatterbox-TTS-Server-2025\n",
        "\n",
        "def run_server():\n",
        "    try:\n",
        "        from server import app\n",
        "        print(\"✅ Server starting...\")\n",
        "        # Add memory-efficient settings\n",
        "        uvicorn.run(\n",
        "            app,\n",
        "            host=\"0.0.0.0\",\n",
        "            port=port,\n",
        "            log_level=\"warning\",  # Reduce log verbosity\n",
        "            access_log=False      # Disable access logs to save memory\n",
        "        )\n",
        "    except Exception as e:\n",
        "        print(f\"❌ Server error: {e}\")\n",
        "\n",
        "print(\"🚀 Starting TTS server...\")\n",
        "\n",
        "thread = threading.Thread(target=run_server, daemon=True)\n",
        "thread.start()\n",
        "\n",
        "time.sleep(25)  # Extra time for model loading\n",
        "\n",
        "print(\"🎉 Server ready! Click below:\")\n",
        "serve_kernel_port_as_window(port)\n",
        "\n",
        "print(\"\\n💡 Tips to prevent crashes:\")\n",
        "print(\"• Use shorter texts (under 500 characters)\")\n",
        "print(\"• Wait for each generation to complete before starting another\")\n",
        "print(\"• If it crashes, just re-run this cell\")"
      ],
      "metadata": {
        "id": "bI5SuD0OULxO"
      },
      "execution_count": null,
      "outputs": []
    },
    {
      "cell_type": "code",
      "source": [
        "# @title 3\n",
        "\n",
        "# localtunnel (lt) انسٹال\n",
        "!npm install -g localtunnel   # اگر پہلے سے موجود ہو تو یہ سطر بائی پاس کریں\n",
        "\n",
        "import subprocess, re, requests, atexit, sys\n",
        "\n",
        "# 1️⃣ lt کو بیک‑گراؤنڈ میں سٹارٹ\n",
        "lt_proc = subprocess.Popen(\n",
        "    [\"lt\", \"--port\", str(port)],\n",
        "    stdout=subprocess.PIPE,\n",
        "    stderr=subprocess.STDOUT,\n",
        "    text=True,\n",
        "    bufsize=1\n",
        ")\n",
        "\n",
        "# 2️⃣ URL نکالیں\n",
        "public_url = None\n",
        "while True:\n",
        "    line = lt_proc.stdout.readline()\n",
        "    if not line:\n",
        "        break\n",
        "    m = re.search(r\"https?://[^\\s]+\", line)\n",
        "    if m:\n",
        "        public_url = m.group(0)\n",
        "        break\n",
        "\n",
        "if not public_url:\n",
        "    print(\"❌ localtunnel URL نہیں ملی\")\n",
        "    sys.exit(1)\n",
        "\n",
        "# 3️⃣ ٹنل پاس ورڈ (سرور کی پبلک IP) حاصل کریں\n",
        "try:\n",
        "    pw = requests.get(\"https://loca.lt/mytunnelpassword\").text.strip()\n",
        "except Exception:\n",
        "    pw = \"❓  پاس ورڈ حاصل نہیں ہو سکا\"\n",
        "\n",
        "print(\"\\n🚀  LocalTunnel Public URL :\", public_url)\n",
        "print(\"\\n🔐  Tunnel password (یہی IP ہے – براوزر میں داخل کریں):\", pw)\n",
        "print(\"\\n📖  Swagger UI →\", f\"{public_url}/docs\")\n",
        "\n",
        "# نوٹ‑بُک بند ہونے پر lt پراسس ختم کریں\n",
        "atexit.register(lambda: lt_proc.terminate())"
      ],
      "metadata": {
        "id": "HGRwakb3UOx-"
      },
      "execution_count": null,
      "outputs": []
    },
    {
      "cell_type": "markdown",
      "source": [
        "#  Not Runing Coding"
      ],
      "metadata": {
        "id": "0X3yHdWNUiPl"
      }
    },
    {
      "cell_type": "code",
      "source": [
        "\n",
        "!pip install pyngrok\n",
        "!ngrok config add-authtoken (\"xxxxxxxxxxxxxxxxxxxxxxxxxxx\")\n",
        "\n",
        "!pip install --upgrade pyngrok\n",
        "\n",
        "from pyngrok import ngrok\n",
        "\n",
        "# Place your ngrok auth token here\n",
        "ngrok.set_auth_token(\"xxxxxxxxxxxxxxxxxxxxxxxxxxx\")\n",
        "\n",
        "# Run ngrok on port 8004\n",
        "public_url = ngrok.connect(8004)\n",
        "\n",
        "print(\"Ngrok Tunnel URL:\", public_url)"
      ],
      "metadata": {
        "id": "2TAHCQlSUrqu"
      },
      "execution_count": null,
      "outputs": []
    }
  ]
}
